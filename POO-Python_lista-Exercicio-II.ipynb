{
  "cells": [
    {
      "cell_type": "markdown",
      "metadata": {
        "id": "view-in-github",
        "colab_type": "text"
      },
      "source": [
        "<a href=\"https://colab.research.google.com/github/jpdicarvalho/POO-Python/blob/main/POO-Python_lista-Exercicio-II.ipynb\" target=\"_parent\"><img src=\"https://colab.research.google.com/assets/colab-badge.svg\" alt=\"Open In Colab\"/></a>"
      ]
    },
    {
      "cell_type": "markdown",
      "source": [
        "#**Exercicíos de Programação Orientada a Objetos com Python - Lista II**"
      ],
      "metadata": {
        "id": "BvPyjbkrskqC"
      },
      "id": "BvPyjbkrskqC"
    },
    {
      "cell_type": "markdown",
      "source": [
        "#**Author: João Pedro Braga de Carvalho**"
      ],
      "metadata": {
        "id": "E9u4O3VBtRWl"
      },
      "id": "E9u4O3VBtRWl"
    },
    {
      "cell_type": "markdown",
      "id": "62c85c7e",
      "metadata": {
        "id": "62c85c7e"
      },
      "source": [
        "### As questões a seguir abordam aspectos sobre herança, polimorfismo, métodos e atributos estáticos em Python. Sendo assim, foram escolhidos seis temas para desenvolvimentos dos exemplos:"
      ]
    },
    {
      "cell_type": "markdown",
      "id": "38a4655d",
      "metadata": {
        "id": "38a4655d"
      },
      "source": [
        "### **1. Criptomoedas**"
      ]
    },
    {
      "cell_type": "markdown",
      "id": "0623ddda",
      "metadata": {
        "id": "0623ddda"
      },
      "source": [
        "Questão 1:\n",
        "Desenvolva uma classe Cryptocurrency que represente uma criptomoeda, com atributos como nome, preço atual e volume de mercado. Implemente métodos para atualizar o preço da criptomoeda e para obter o volume de mercado atual. Utilize um atributo estático para armazenar a quantidade total de criptomoedas."
      ]
    },
    {
      "cell_type": "code",
      "execution_count": 47,
      "id": "e518cc84",
      "metadata": {
        "colab": {
          "base_uri": "https://localhost:8080/"
        },
        "id": "e518cc84",
        "outputId": "85445dfa-251a-42ea-8d91-217285ec6186"
      },
      "outputs": [
        {
          "output_type": "stream",
          "name": "stdout",
          "text": [
            "Total de criptomoedas: 2\n",
            "Preço atual do Bitcoin: 50000\n",
            "Volume de mercado do Ethereum: 50000000\n",
            "Novo preço do Bitcoin: 55000\n"
          ]
        }
      ],
      "source": [
        "class Cryptocurrency:\n",
        "    totalCryptocurrencies = 0\n",
        "\n",
        "    def __init__(self, name, currentPrice, marketVolume):\n",
        "        self.name = name\n",
        "        self.currentPrice = currentPrice\n",
        "        self.marketVolume = marketVolume\n",
        "        Cryptocurrency.totalCryptocurrencies += 1\n",
        "\n",
        "    def updatePrice(self, newPrice):\n",
        "        self.currentPrice = newPrice\n",
        "\n",
        "    def getMarketVolume(self):\n",
        "        return self.marketVolume\n",
        "\n",
        "# Exemplo de uso:\n",
        "btc = Cryptocurrency(\"Bitcoin\", 50000, 1000000000)\n",
        "eth = Cryptocurrency(\"Ethereum\", 2000, 50000000)\n",
        "\n",
        "print(\"Total de criptomoedas:\", Cryptocurrency.totalCryptocurrencies)\n",
        "print(\"Preço atual do Bitcoin:\", btc.currentPrice)\n",
        "print(\"Volume de mercado do Ethereum:\", eth.getMarketVolume())\n",
        "\n",
        "btc.updatePrice(55000)\n",
        "print(\"Novo preço do Bitcoin:\", btc.currentPrice)"
      ]
    },
    {
      "cell_type": "markdown",
      "id": "d5199b54",
      "metadata": {
        "id": "d5199b54"
      },
      "source": [
        "Questão 2:\n",
        "Crie uma classe PortfolioCrypto para representar um portfólio de investimentos em criptomoedas. Implemente um método estático para calcular o valor total do portfólio, levando em consideração o preço atual de cada criptomoeda e a quantidade de cada uma delas."
      ]
    },
    {
      "cell_type": "code",
      "execution_count": 48,
      "id": "32bc5141",
      "metadata": {
        "colab": {
          "base_uri": "https://localhost:8080/"
        },
        "id": "32bc5141",
        "outputId": "aae7657e-ae04-4b03-f95d-049cd6b9f3f6"
      },
      "outputs": [
        {
          "output_type": "stream",
          "name": "stdout",
          "text": [
            "Valor total do portfólio: 110000\n"
          ]
        }
      ],
      "source": [
        "class PortfolioCrypto:\n",
        "    @staticmethod\n",
        "    def calculate_portfolio_value(cryptocurrencies):\n",
        "        total_value = 0\n",
        "        for crypto in cryptocurrencies:\n",
        "            total_value += crypto.current_price * crypto.quantity\n",
        "        return total_value\n",
        "\n",
        "# Exemplo de uso:\n",
        "class Cryptocurrency:\n",
        "    def __init__(self, name, current_price, quantity):\n",
        "        self.name = name\n",
        "        self.current_price = current_price\n",
        "        self.quantity = quantity\n",
        "\n",
        "btc = Cryptocurrency(\"Bitcoin\", 50000, 2)\n",
        "eth = Cryptocurrency(\"Ethereum\", 2000, 5)\n",
        "\n",
        "portfolio = [btc, eth]\n",
        "\n",
        "portfolio_value = PortfolioCrypto.calculate_portfolio_value(portfolio)\n",
        "print(\"Valor total do portfólio:\", portfolio_value)"
      ]
    },
    {
      "cell_type": "markdown",
      "id": "f6d81e03",
      "metadata": {
        "id": "f6d81e03"
      },
      "source": [
        "### **2. Mercado de Ações**"
      ]
    },
    {
      "cell_type": "markdown",
      "id": "07af163c",
      "metadata": {
        "id": "07af163c"
      },
      "source": [
        "Questão 3:\n",
        "Crie uma classe base Stock para representar ações de empresas, com atributos como nome da empresa, preço atual e setor. Implemente métodos para atualizar o preço da ação e obter informações sobre o setor. Utilize um atributo estático para armazenar o número total de ações."
      ]
    },
    {
      "cell_type": "code",
      "execution_count": null,
      "id": "487bdb4b",
      "metadata": {
        "colab": {
          "base_uri": "https://localhost:8080/"
        },
        "id": "487bdb4b",
        "outputId": "da021d0c-cda6-4e4d-d990-da7991255c59"
      },
      "outputs": [
        {
          "output_type": "stream",
          "name": "stdout",
          "text": [
            "Total de Ações: 3\n",
            "Setor da Compania: Drinks\n",
            "Novo preço da ação da Compania Shelby: 110\n"
          ]
        }
      ],
      "source": []
    },
    {
      "cell_type": "markdown",
      "id": "958766bf",
      "metadata": {
        "id": "958766bf"
      },
      "source": [
        "Questão 4:\n",
        "Desenvolva uma classe PortfolioStock para representar um portfólio de investimentos em ações. Implemente um método estático para calcular o valor total do portfólio, considerando o preço atual de cada ação e a quantidade de cada uma delas."
      ]
    },
    {
      "cell_type": "code",
      "execution_count": 8,
      "id": "5167d331",
      "metadata": {
        "id": "5167d331",
        "colab": {
          "base_uri": "https://localhost:8080/"
        },
        "outputId": "b6a2a24c-e20d-4f59-f256-6a8058aba046"
      },
      "outputs": [
        {
          "output_type": "stream",
          "name": "stdout",
          "text": [
            "Valor total do portifolio de ações: 25000.0\n"
          ]
        }
      ],
      "source": []
    },
    {
      "cell_type": "markdown",
      "id": "cb63db88",
      "metadata": {
        "id": "cb63db88"
      },
      "source": [
        "### **3. Consórcio de Automóveis**"
      ]
    },
    {
      "cell_type": "markdown",
      "id": "447626f4",
      "metadata": {
        "id": "447626f4"
      },
      "source": [
        "Questão 5:\n",
        "Desenvolva uma classe ParticipanteConsorcio que represente um participante de um consórcio de automóveis, com atributos como nome e valor das parcelas mensais. Implemente um método estático para calcular o valor total das parcelas de todos os participantes."
      ]
    },
    {
      "cell_type": "code",
      "execution_count": 27,
      "id": "abb6d80d",
      "metadata": {
        "id": "abb6d80d",
        "colab": {
          "base_uri": "https://localhost:8080/"
        },
        "outputId": "817149f5-9886-4e5c-a97d-5236e1196b27"
      },
      "outputs": [
        {
          "output_type": "stream",
          "name": "stdout",
          "text": [
            "Valor total das 60 parcelas de 500 reias: R$ 30000\n"
          ]
        }
      ],
      "source": []
    },
    {
      "cell_type": "markdown",
      "id": "fc05d3ee",
      "metadata": {
        "id": "fc05d3ee"
      },
      "source": [
        "Questão 6:\n",
        "Crie uma classe GrupoConsorcio para representar um grupo de consórcio de automóveis. Implemente um método estático para calcular o valor total de contribuições mensais do grupo."
      ]
    },
    {
      "cell_type": "code",
      "execution_count": 30,
      "id": "bf24d63b",
      "metadata": {
        "id": "bf24d63b",
        "colab": {
          "base_uri": "https://localhost:8080/"
        },
        "outputId": "7b1ddd3c-2510-43ed-9fdd-6e59c52c503a"
      },
      "outputs": [
        {
          "output_type": "stream",
          "name": "stdout",
          "text": [
            "Valor total das contribuições mensais do grupo: 48000\n",
            "Nome do participante: João\n",
            "Valor total das 60 parcelas de 500 reais: 30000\n",
            "Nome do participante: Pedro\n",
            "Valor total das 60 parcelas de 300 reais: 18000\n"
          ]
        }
      ],
      "source": []
    },
    {
      "cell_type": "markdown",
      "id": "95dc2f12",
      "metadata": {
        "id": "95dc2f12"
      },
      "source": [
        "### **4. Leilões de Imóveis**"
      ]
    },
    {
      "cell_type": "markdown",
      "id": "b71b1374",
      "metadata": {
        "id": "b71b1374"
      },
      "source": [
        "Questão 7:\n",
        "Implemente uma classe ImovelLeilao para representar um imóvel leiloado, com atributos como endereço e lance mínimo. Implemente um método estático para calcular o lance total mínimo necessário para arrematar todos os imóveis."
      ]
    },
    {
      "cell_type": "code",
      "execution_count": null,
      "id": "c4adfb05",
      "metadata": {
        "id": "c4adfb05"
      },
      "outputs": [],
      "source": []
    },
    {
      "cell_type": "markdown",
      "id": "8d3b147a",
      "metadata": {
        "id": "8d3b147a"
      },
      "source": [
        "Questão 8:\n",
        "Desenvolva uma classe LeilaoImoveis para representar um leilão de imóveis. Implemente um método estático para calcular o valor total dos lances dados durante o leilão."
      ]
    },
    {
      "cell_type": "code",
      "execution_count": 36,
      "id": "e4716531",
      "metadata": {
        "id": "e4716531",
        "colab": {
          "base_uri": "https://localhost:8080/"
        },
        "outputId": "dcabff57-3f35-40a1-e126-6ec03b84069e"
      },
      "outputs": [
        {
          "output_type": "stream",
          "name": "stdout",
          "text": [
            "Valor total dos lances dados durante o leilão de imóveis: 930000\n"
          ]
        }
      ],
      "source": []
    },
    {
      "cell_type": "markdown",
      "id": "aa58eee7",
      "metadata": {
        "id": "aa58eee7"
      },
      "source": [
        "### **5. NFT (Tokens Não Fungíveis)**"
      ]
    },
    {
      "cell_type": "markdown",
      "id": "acdeec20",
      "metadata": {
        "id": "acdeec20"
      },
      "source": [
        "Questão 9: Crie uma classe NFT para representar um token não fungível, com atributos como nome e valor. Implemente um método estático para calcular o valor total de todos os NFTs."
      ]
    },
    {
      "cell_type": "code",
      "execution_count": 38,
      "id": "1a5b2557",
      "metadata": {
        "id": "1a5b2557",
        "colab": {
          "base_uri": "https://localhost:8080/"
        },
        "outputId": "2c2b6e98-5c0d-4469-b518-f4745010bbc9"
      },
      "outputs": [
        {
          "output_type": "stream",
          "name": "stdout",
          "text": [
            "Valor total de todos os NFTs: 18480\n"
          ]
        }
      ],
      "source": []
    },
    {
      "cell_type": "markdown",
      "source": [],
      "metadata": {
        "id": "zBZtCepOlWZ0"
      },
      "id": "zBZtCepOlWZ0"
    },
    {
      "cell_type": "markdown",
      "id": "803695d1",
      "metadata": {
        "id": "803695d1"
      },
      "source": [
        "Questão 10:\n",
        "Desenvolva uma classe CarteiraNFT para representar a carteira de um usuário de NFTs. Implemente um método estático para calcular o valor total da carteira de NFTs."
      ]
    },
    {
      "cell_type": "code",
      "execution_count": 39,
      "id": "cb3013aa",
      "metadata": {
        "id": "cb3013aa",
        "colab": {
          "base_uri": "https://localhost:8080/"
        },
        "outputId": "51a6b6dd-1b1c-4d47-be64-e16d7b3cc96b"
      },
      "outputs": [
        {
          "output_type": "stream",
          "name": "stdout",
          "text": [
            "Valor total da carteira de NFTs: 18480\n"
          ]
        }
      ],
      "source": []
    },
    {
      "cell_type": "markdown",
      "id": "9daac4fc",
      "metadata": {
        "id": "9daac4fc"
      },
      "source": [
        "### **6. Direitos Autorais**"
      ]
    },
    {
      "cell_type": "markdown",
      "id": "e4c0db5e",
      "metadata": {
        "id": "e4c0db5e"
      },
      "source": [
        "Questão 11:\n",
        "Desenvolva uma classe ObraAutoral para representar uma obra protegida por direitos autorais, com atributos como título e valor dos direitos autorais. Implemente um método estático para calcular o valor total de todos os direitos autorais das obras."
      ]
    },
    {
      "cell_type": "code",
      "execution_count": 40,
      "id": "2db75f0a",
      "metadata": {
        "id": "2db75f0a",
        "colab": {
          "base_uri": "https://localhost:8080/"
        },
        "outputId": "4bbf9344-5272-430c-8fbc-0ae0a3a9b74c"
      },
      "outputs": [
        {
          "output_type": "stream",
          "name": "stdout",
          "text": [
            "Valor total dos direitos autorais de todas as obras: 37000\n"
          ]
        }
      ],
      "source": []
    },
    {
      "cell_type": "markdown",
      "id": "5d546993",
      "metadata": {
        "id": "5d546993"
      },
      "source": [
        "Questão 12:\n",
        "Crie uma classe ColecaoObras para representar uma coleção de obras protegidas por direitos autorais. Implemente um método estático para calcular o valor total da coleção, considerando o valor dos direitos autorais de cada obra."
      ]
    },
    {
      "cell_type": "code",
      "execution_count": 45,
      "id": "7c27602e",
      "metadata": {
        "id": "7c27602e",
        "colab": {
          "base_uri": "https://localhost:8080/"
        },
        "outputId": "788e7f98-9e03-43b3-b89f-8282217016b2"
      },
      "outputs": [
        {
          "output_type": "stream",
          "name": "stdout",
          "text": [
            "Valor total da coleção: 37000\n"
          ]
        }
      ],
      "source": []
    }
  ],
  "metadata": {
    "kernelspec": {
      "display_name": "Python 3 (ipykernel)",
      "language": "python",
      "name": "python3"
    },
    "language_info": {
      "codemirror_mode": {
        "name": "ipython",
        "version": 3
      },
      "file_extension": ".py",
      "mimetype": "text/x-python",
      "name": "python",
      "nbconvert_exporter": "python",
      "pygments_lexer": "ipython3",
      "version": "3.11.3"
    },
    "colab": {
      "provenance": [],
      "include_colab_link": true
    }
  },
  "nbformat": 4,
  "nbformat_minor": 5
}