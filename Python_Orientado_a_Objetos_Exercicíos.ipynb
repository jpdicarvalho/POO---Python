{
  "nbformat": 4,
  "nbformat_minor": 0,
  "metadata": {
    "colab": {
      "provenance": [],
      "authorship_tag": "ABX9TyOI22cOtwHVRW7zKiq+KqkZ",
      "include_colab_link": true
    },
    "kernelspec": {
      "name": "python3",
      "display_name": "Python 3"
    },
    "language_info": {
      "name": "python"
    }
  },
  "cells": [
    {
      "cell_type": "markdown",
      "metadata": {
        "id": "view-in-github",
        "colab_type": "text"
      },
      "source": [
        "<a href=\"https://colab.research.google.com/github/jpdicarvalho/POO-Python/blob/main/Python_Orientado_a_Objetos_Exercic%C3%ADos.ipynb\" target=\"_parent\"><img src=\"https://colab.research.google.com/assets/colab-badge.svg\" alt=\"Open In Colab\"/></a>"
      ]
    },
    {
      "cell_type": "markdown",
      "source": [
        "#Exercicíos de Programação Orientada a Objetos com Python\n",
        "\n",
        "##**Author**: João Pedro Braga de Carvalho\n",
        "---"
      ],
      "metadata": {
        "id": "tTqVe5K-5dCv"
      }
    },
    {
      "cell_type": "markdown",
      "source": [
        "## **Problema - 1**\n",
        "### Crie uma classe Bola cujos atributos são cor e raio. Crie um método que imprime a cor da bola. Crie um método para calcular a área dessa bola. Crie um método para calcular o volume da bola. Crie um objeto dessa classe e calcule a área e o volume, imprimindo ambos em seguida.\n",
        "- **Área da esfera** = 4 x 3.14 x R x R\n",
        "- **Volume da esfera** = 4.3,14 X R X R X R/3"
      ],
      "metadata": {
        "id": "Vn17f8IO63tE"
      }
    },
    {
      "cell_type": "code",
      "execution_count": 3,
      "metadata": {
        "colab": {
          "base_uri": "https://localhost:8080/"
        },
        "id": "5fEFHiYAN0NE",
        "outputId": "058a1aea-3bb7-4123-f766-e84f336b10be"
      },
      "outputs": [
        {
          "output_type": "stream",
          "name": "stdout",
          "text": [
            "Cor da bola: Preta\n",
            "Área da Bola: 615.7521601035994\n",
            "Volume da Bola: 1436.7550402417319\n"
          ]
        }
      ],
      "source": [
        "import math # Importa o módulo de matemática para usar funções matemáticas como pi\n",
        "\n",
        "# Define a classe Bola\n",
        "class Bola:\n",
        "\n",
        "    def __init__(self, cor, raio): # Método especial de inicialização da classe\n",
        "        self.cor = cor # Atributo cor da bola\n",
        "        self.raio = raio # Atributo raio da bola\n",
        "\n",
        "    def imprimir_cor(self): # Método para imprimir a cor da bola\n",
        "        print(\"Cor da bola:\", self.cor)\n",
        "\n",
        "    def calcular_Area(self): # Método para calcular a área da bola\n",
        "        area = 4 * math.pi * self.raio ** 2 # Fórmula da área de uma esfera\n",
        "        return area # Retorna a área calculada\n",
        "\n",
        "    def calcular_Volume(self): # Método para calcular o volume da bola\n",
        "        volume = (4/3) * math.pi * self.raio ** 3 # Fórmula do volume de uma esfera\n",
        "        return volume # Retorna o volume calculado\n",
        "\n",
        "\n",
        "# Criando um objeto da classe Bola\n",
        "objBola = Bola(\"Preta\", 7) # Instancia um objeto da classe Bola com cor vermelha e raio 7\n",
        "\n",
        "# Calculando área e volume\n",
        "area = objBola.calcular_Area() # Chama o método calcularArea() da instância bola\n",
        "volume = objBola.calcular_Volume() # Chama o método calcularVolume() da instância bola\n",
        "\n",
        "#Imprimindo a cor da Bola\n",
        "objBola.imprimir_cor()\n",
        "\n",
        "# Imprimindo área e volume\n",
        "print(\"Área da Bola:\", area) # Imprime a área calculada da bola\n",
        "print(\"Volume da Bola:\", volume) # Imprime o volume calculado da bola"
      ]
    },
    {
      "cell_type": "markdown",
      "source": [
        "## **Problema - 2**\n",
        "### Crie uma classe Retangulo cujos atributos são lado_a e lado_b. Crie um método para calcular a área desse retângulo. Crie um objeto dessa classe e calcule a área e a imprima em seguida.*texto em itálico*"
      ],
      "metadata": {
        "id": "XSXEEKOL80Tv"
      }
    },
    {
      "cell_type": "code",
      "source": [
        "import math\n",
        "\n",
        "class Retangulo:\n",
        "\n",
        "    def __init__(self, lado_a, lado_b):\n",
        "        self.lado_a = lado_a\n",
        "        self.lado_b = lado_a\n",
        "\n",
        "    def calcularArea(self):\n",
        "        return self.lado_a * self.lado_b\n",
        "\n",
        "#Passando os valores para calcular a area\n",
        "comp_lado_a = 5\n",
        "larg_lado_b = 5\n",
        "\n",
        "#Criando objeto da classe retângulo\n",
        "objRetangulo = Retangulo(comp_lado_a, larg_lado_b)\n",
        "\n",
        "#Calculando a área do retangulo\n",
        "area = objRetangulo.calcularArea()\n",
        "\n",
        "#Imprimindo a área do retangulo\n",
        "print(\"Área do retângulo:\", area)\n"
      ],
      "metadata": {
        "id": "HtIZn6D1ZwJr",
        "colab": {
          "base_uri": "https://localhost:8080/"
        },
        "outputId": "03cf3618-4727-44fd-c25e-8022cbc7f4b4"
      },
      "execution_count": 2,
      "outputs": [
        {
          "output_type": "stream",
          "name": "stdout",
          "text": [
            "Área do retângulo: 25\n"
          ]
        }
      ]
    },
    {
      "cell_type": "markdown",
      "source": [
        "## **Problema - 3**\n",
        "### Crie uma classe Funcionario cujos atributos são nome e e-mail. Guarde as horas trabalhadas em um dicionário cujas chaves são o mês em questão e, em outro dicionário, guarde o salário por hora relativo ao mês em questão. Crie um método que retorna o salário mensal do funcionário."
      ],
      "metadata": {
        "id": "5COEzHMu9IGo"
      }
    },
    {
      "cell_type": "code",
      "source": [
        "class Funcionario:\n",
        "\n",
        "    def __init__(self, nome, email):\n",
        "        self.nome = nome\n",
        "        self.email = email\n",
        "        self.horasTrabalhadas = {}\n",
        "        self.salarioPorHora = {}\n",
        "\n",
        "    def imprimirFunc(self):\n",
        "        print(\"Nome do Funcionário:\", self.nome)\n",
        "        print(\"E-mail do Funcionário:\", self.email)\n",
        "\n",
        "    def addHorasTrabalhadas (self, mes, hora):\n",
        "        self.horasTrabalhadas[mes] = hora\n",
        "\n",
        "    def addSalarioHora (self, mes, salarioHora):\n",
        "        self.salarioPorHora[mes] = salarioHora\n",
        "\n",
        "    def CalcSalarioMensal (self, mes):\n",
        "        if mes not in self.horasTrabalhadas or mes not in self.salarioPorHora:\n",
        "           return \"Informações insuficientes para calcular o salário deste mês.\"\n",
        "        else:\n",
        "          horasTrabalhadasMes = self.horasTrabalhadas[mes]\n",
        "          salarioHoraMes = self.salarioPorHora[mes]\n",
        "          salarioMensal = horasTrabalhadasMes * salarioHoraMes\n",
        "          return salarioMensal\n",
        "\n",
        "#Criando objeto da classe funcionário\n",
        "func1 = Funcionario(\"João Pedro\", \"jp@gmail.com\")\n",
        "\n",
        "#Passando os valores para imprimir o nome e email do funcionário\n",
        "func1.imprimirFunc()\n",
        "\n",
        "#Passando os valores para add horas trabalhas\n",
        "func1.addHorasTrabalhadas(\"JAN\", 160)\n",
        "func1.addSalarioHora(\"JAN\", 15)\n",
        "\n",
        "#Calculando o salário do mês definido\n",
        "salarioMes = func1.CalcSalarioMensal(\"JAN\")\n",
        "\n",
        "#Imprimindo o funcionário e o salário calculado\n",
        "print(\"Salário:\", salarioMes)"
      ],
      "metadata": {
        "colab": {
          "base_uri": "https://localhost:8080/"
        },
        "id": "o_kCo2UyyFD5",
        "outputId": "856cc063-873a-4f89-d82f-0d18bb7a2cce"
      },
      "execution_count": 1,
      "outputs": [
        {
          "output_type": "stream",
          "name": "stdout",
          "text": [
            "Nome do Funcionário: João Pedro\n",
            "E-mail do Funcionário: jp@gmail.com\n",
            "Salário: 2400\n"
          ]
        }
      ]
    }
  ]
}