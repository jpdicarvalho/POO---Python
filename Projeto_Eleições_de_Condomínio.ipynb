{
  "nbformat": 4,
  "nbformat_minor": 0,
  "metadata": {
    "colab": {
      "provenance": [],
      "authorship_tag": "ABX9TyOQ87Bj+jHF94hL24bG2lzH",
      "include_colab_link": true
    },
    "kernelspec": {
      "name": "python3",
      "display_name": "Python 3"
    },
    "language_info": {
      "name": "python"
    }
  },
  "cells": [
    {
      "cell_type": "markdown",
      "metadata": {
        "id": "view-in-github",
        "colab_type": "text"
      },
      "source": [
        "<a href=\"https://colab.research.google.com/github/jpdicarvalho/POO-Python/blob/main/Projeto_Elei%C3%A7%C3%B5es_de_Condom%C3%ADnio.ipynb\" target=\"_parent\"><img src=\"https://colab.research.google.com/assets/colab-badge.svg\" alt=\"Open In Colab\"/></a>"
      ]
    },
    {
      "cell_type": "markdown",
      "source": [
        "# **Projeto Eleição de Condomínio**\n",
        "# **Author: João Pedro Braga de Carvalho**\n",
        "---\n",
        "## **Documentação do Projeto: Organizando uma Eleição**\n",
        "Este documento descreve a estrutura e a funcionalidade do sistema eletrônico desenvolvido para auxiliar na votação do novo síndico em um condomínio.\n",
        "\n",
        "#Estrutura de Classes"
      ],
      "metadata": {
        "id": "1iknEAw-bH9x"
      }
    },
    {
      "cell_type": "markdown",
      "source": [
        "## Morador\n",
        "Representa cada pessoa que habita no condomínio.\n",
        "1. **Atributos**: nome, apartamento.\n",
        "2. **Métodos**:\n",
        "- **Construtor**: recebe opcionalmente um nome e um objeto Apartamento. Se não receber um nome, solicita através de input. Se não receber um objeto Apartamento, solicita o número do apartamento e cria o objeto.\n",
        "- **Votar**: recebe um objeto Urna e um número de candidato (opcional) e registra o voto na Urna."
      ],
      "metadata": {
        "id": "wz-J1N04dJuU"
      }
    },
    {
      "cell_type": "code",
      "source": [
        "class Morador():\n",
        "    def __init__(self, nome, num_apartamento):\n",
        "        self.nome = nome\n",
        "        self.num_apartamento = num_apartamento\n",
        "\n",
        "    def votar(self, urna, num_apartamento):\n",
        "        num_candidato_votado = input(\"Digite o número do candidato em que deseja votar (ou digite 0 para sair): \")\n",
        "        if num_candidato_votado == '0':\n",
        "            return  # Encerra a função se o usuário digitar 0\n",
        "\n",
        "        num_candidato_votado = int(num_candidato_votado)  # Convertendo para inteiro\n",
        "\n",
        "        for apartamento in urna.listApartments.values():\n",
        "            if 'candidato' in apartamento:\n",
        "                if apartamento['candidato']['numCandidatura'] == num_candidato_votado:\n",
        "                    apartamento['candidato']['votosRecebidos'] += 1\n",
        "\n",
        "        quemVotou = urna.listApartments[self.num_apartamento]\n",
        "        if not quemVotou['voto']:\n",
        "            quemVotou['voto'] = True\n",
        "            print(\"Voto registrado com sucesso!\")\n",
        "            return\n",
        "\n",
        "\n",
        "        print(\"Número de candidatura não encontrado. Por favor, tente novamente.\")"
      ],
      "metadata": {
        "id": "9BFJhpoiyVFd"
      },
      "execution_count": 2,
      "outputs": []
    },
    {
      "cell_type": "markdown",
      "source": [
        "## Candidato\n",
        "É um tipo especial de Morador.\n",
        "1. **Atributos**: número (identificação na Urna), contagem de votos.\n",
        "2. **Método**:\n",
        "- **Construtor**: inicializa com nome e apartamento do Morador e atribui 0 à contagem de votos.\n"
      ],
      "metadata": {
        "id": "fTiiZusqe6qF"
      }
    },
    {
      "cell_type": "code",
      "source": [
        "class Candidato(Morador):\n",
        "    def __init__(self, nome, num_apartamento, numCandidatura):\n",
        "        super().__init__(nome, num_apartamento)\n",
        "        self.numCandidatura = numCandidatura\n",
        "        self.votosRecebidos = 0"
      ],
      "metadata": {
        "id": "0mWF9hP9ffk0"
      },
      "execution_count": 3,
      "outputs": []
    },
    {
      "cell_type": "markdown",
      "source": [
        "## Apartamento\n",
        "Representa as unidades do prédio.\n",
        "1. **Atributos**: número do apartamento a ser cadastrado e uma lista de apartamentos para ser inserido.\n",
        "2. **Métodos**:\n",
        "- **Adicionar Morador**: adiciona um objeto Morador à lista.\n",
        "- **Adicionar Candidato**: adiciona um objeto Candidato à lista.\n",
        "- **Visualizar Moradores**: exibe a lista de moradores."
      ],
      "metadata": {
        "id": "lAG5DTCofz5k"
      }
    },
    {
      "cell_type": "code",
      "source": [
        "class Apartamento():\n",
        "    def __init__(self, numApartamento, apartment={}):\n",
        "        self.apartment = apartment\n",
        "        self.numApartamento = numApartamento\n",
        "\n",
        "    def createMorador(self):\n",
        "        nome = input('Nome do morador: ')\n",
        "        if self.numApartamento in self.apartment:\n",
        "            # Se o apartamento já existe, adiciona o morador ao dicionário existente\n",
        "            self.apartment[self.numApartamento]['morador'] = {'nome': nome}\n",
        "        else:\n",
        "            # Se o apartamento não existe, cria um novo dicionário para ele\n",
        "            self.apartment[self.numApartamento] = {\n",
        "                'morador': {'nome': nome},\n",
        "                'voto': False\n",
        "            }\n",
        "        print(\"\\nApartamento cadastrado com sucesso!\")\n",
        "\n",
        "    def createCandidato(self):\n",
        "        nome = input('Nome do Candidato: ')\n",
        "        if self.numApartamento in self.apartment:\n",
        "            # Se o apartamento já existe, adiciona o candidato ao dicionário existente\n",
        "            self.apartment[self.numApartamento]['candidato'] = {\n",
        "                'nome': nome,\n",
        "                'numCandidatura': 0,\n",
        "                'votosRecebidos': 0\n",
        "            }\n",
        "        else:\n",
        "            # Se o apartamento não existe, cria um novo dicionário para ele\n",
        "            self.apartment[self.numApartamento] = {\n",
        "                'candidato': {\n",
        "                    'nome': nome,\n",
        "                    'numCandidatura': 0,\n",
        "                    'votosRecebidos': 0\n",
        "                },\n",
        "                'voto': False\n",
        "            }\n",
        "        print(\"\\nApartamento cadastrado com sucesso!\")"
      ],
      "metadata": {
        "id": "0KuHsVaDg3zF"
      },
      "execution_count": 4,
      "outputs": []
    },
    {
      "cell_type": "markdown",
      "source": [
        "## Urna\n",
        "Responsável pela lógica da eleição.\n",
        "1. **Atributos**: coleção de apartamentos contendo os moradores e candidatos.\n",
        "2. **Métodos**:\n",
        "- **Cadastro de Apartamentos e Candidatos**: adiciona objetos existentes à coleção e gera número único para candidatos.\n",
        "- **Resultado**: apresenta o resultado da votação."
      ],
      "metadata": {
        "id": "60nVKpgEhVVr"
      }
    },
    {
      "cell_type": "code",
      "source": [
        "class Urna():\n",
        "    def __init__(self, listApartments={}):\n",
        "        self.listApartments = listApartments\n",
        "\n",
        "    def gerarNumCandidato(self):\n",
        "        num_candidato = 1001  # Número inicial para os candidatos\n",
        "        for apartamento in self.listApartments.values():\n",
        "            if 'candidato' in apartamento:  # Verifica se há um candidato neste apartamento\n",
        "                apartamento['candidato']['numCandidatura'] = num_candidato\n",
        "                num_candidato += 1\n",
        "\n",
        "    def listarApartamentos(self, listApartments={}):\n",
        "        print(\"\\n#Confira abaixo, os apartamentos cadastrados para votar:\")\n",
        "        for num in self.listApartments.keys():\n",
        "          print(f\">> Apartamento Nº {num}\")\n",
        "\n",
        "    def listarCandidatos(self):\n",
        "        print(\"\\n#Confira abaixo, os candidatos disponíveis:\")\n",
        "        for num_apartamento, detalhes in self.listApartments.items():\n",
        "            if 'candidato' in detalhes:\n",
        "                candidato = detalhes['candidato']\n",
        "                nome_candidato = candidato['nome']\n",
        "                num_candidatura = candidato['numCandidatura']\n",
        "                print(f\">> Candidato: {nome_candidato}, Número de Candidatura: {num_candidatura}\")\n",
        "\n",
        "    def resultado(self):\n",
        "        print(\"\\nApuração dos votos:\")\n",
        "        candidato_vencedor = None\n",
        "        votos_vencedor = 0\n",
        "        for num_apartamento, detalhes in self.listApartments.items():\n",
        "            for chave, valor in detalhes.items():\n",
        "                if 'candidato' in detalhes:\n",
        "                    votos_recebidos = detalhes['candidato']['votosRecebidos']\n",
        "                    if votos_recebidos > votos_vencedor:\n",
        "                        candidato_vencedor = detalhes['candidato']['nome']\n",
        "                        votos_vencedor = votos_recebidos\n",
        "\n",
        "        if candidato_vencedor:\n",
        "            print(f\"Candidato vencedor: {candidato_vencedor}, Votos Recebidos: {votos_vencedor}\")"
      ],
      "metadata": {
        "id": "G_vC822qhwiz"
      },
      "execution_count": null,
      "outputs": []
    },
    {
      "cell_type": "markdown",
      "source": [
        "# Programa Principal\n",
        "O programa principal possui 3 etapas:\n",
        "\n",
        "1. **Cadastro**: Lê informações sobre moradores e cria os objetos Morador/Candidato e Apartamento correspondentes.\n",
        "2. **Configuração**: Utiliza as informações obtidas para criar uma Urna.\n",
        "3. **Votação**: Permite que os moradores votem. Encerra quando a Urna informa que a votação acabou."
      ],
      "metadata": {
        "id": "vZT-cQ1qiO3I"
      }
    },
    {
      "cell_type": "code",
      "source": [
        "def main():\n",
        "    listApartments = {}\n",
        "\n",
        "    while True:\n",
        "        tipo = input(\"Digite M para cadastrar um Morador e C para cadastrar um Candidato (ou digite qualquer outra tecla para sair): \")\n",
        "\n",
        "        if tipo.upper() == 'M':\n",
        "            newNumApart = input('Qual o número do apartamento? ')\n",
        "            newMorador = Apartamento(newNumApart, listApartments)\n",
        "            newMorador.createMorador()\n",
        "\n",
        "        elif tipo.upper() == 'C':\n",
        "            newNumApart = input('Qual o número do apartamento? ')\n",
        "            newCandidato = Apartamento(newNumApart, listApartments)\n",
        "            newCandidato.createCandidato()\n",
        "\n",
        "        else:\n",
        "            print(\"Opção inválida. Encerrando o cadastro.\")\n",
        "            break\n",
        "\n",
        "    urna = Urna(listApartments)\n",
        "    urna.gerarNumCandidato()\n",
        "\n",
        "    print(\"\\n====== Cadastro concluído. Vamos começar a eleição! =====\")\n",
        "\n",
        "    while True:\n",
        "      allVote = True\n",
        "\n",
        "      urna.listarApartamentos(listApartments)\n",
        "      print(listApartments)\n",
        "\n",
        "      votoApartamento = input(f'\\nInforme o número do apartamento que irá votar: ')\n",
        "      if votoApartamento not in listApartments:\n",
        "          print(\"XXXXX Número de apartamento inválido. Por favor, tente novamente. XXXXX\")\n",
        "          continue\n",
        "\n",
        "      detalhes = listApartments[votoApartamento]\n",
        "      if detalhes['voto']:\n",
        "          print(\"XXXX Este apartamento já votou. XXXX\")\n",
        "          continue\n",
        "\n",
        "      print(\"+++ Apartamento habilitado a votar! +++\")\n",
        "      urna.listarCandidatos()\n",
        "\n",
        "      morador = Morador(detalhes.get('Morador', detalhes.get('Candidato')), votoApartamento)\n",
        "      morador.votar(urna, votoApartamento)\n",
        "\n",
        "      for apartment, valueVote in listApartments.items():\n",
        "          if not valueVote['voto']:  # Verifica se algum voto é False\n",
        "              allVote = False\n",
        "              break\n",
        "\n",
        "      if allVote:  # Se todos os votos forem True, encerra a votação\n",
        "         urna.resultado()\n",
        "         break\n",
        "\n",
        "if __name__ == \"__main__\":\n",
        "    main()"
      ],
      "metadata": {
        "id": "YViG-eWRioF9"
      },
      "execution_count": null,
      "outputs": []
    }
  ]
}