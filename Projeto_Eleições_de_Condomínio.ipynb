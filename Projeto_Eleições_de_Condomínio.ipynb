{
  "nbformat": 4,
  "nbformat_minor": 0,
  "metadata": {
    "colab": {
      "provenance": [],
      "authorship_tag": "ABX9TyOUIT2vq6U360N0N0mgeMJN",
      "include_colab_link": true
    },
    "kernelspec": {
      "name": "python3",
      "display_name": "Python 3"
    },
    "language_info": {
      "name": "python"
    }
  },
  "cells": [
    {
      "cell_type": "markdown",
      "metadata": {
        "id": "view-in-github",
        "colab_type": "text"
      },
      "source": [
        "<a href=\"https://colab.research.google.com/github/jpdicarvalho/POO-Python/blob/main/Projeto_Elei%C3%A7%C3%B5es_de_Condom%C3%ADnio.ipynb\" target=\"_parent\"><img src=\"https://colab.research.google.com/assets/colab-badge.svg\" alt=\"Open In Colab\"/></a>"
      ]
    },
    {
      "cell_type": "markdown",
      "source": [
        "# **Projeto Eleição de Condomínio**\n",
        "# **Author: João Pedro Braga de Carvalho**\n",
        "---\n",
        "## **Documentação do Projeto: Organizando uma Eleição**\n",
        "Este documento descreve a estrutura e a funcionalidade do sistema eletrônico desenvolvido para auxiliar na votação do novo síndico em um condomínio.\n",
        "\n",
        "#Estrutura de Classes"
      ],
      "metadata": {
        "id": "1iknEAw-bH9x"
      }
    },
    {
      "cell_type": "markdown",
      "source": [
        "## Morador\n",
        "Representa cada pessoa que habita no condomínio.\n",
        "1. **Atributos**: nome, apartamento.\n",
        "2. **Métodos**:\n",
        "- **Construtor**: recebe opcionalmente um nome e um objeto Apartamento. Se não receber um nome, solicita através de input. Se não receber um objeto Apartamento, solicita o número do apartamento e cria o objeto.\n",
        "- **Votar**: recebe um objeto Urna e um número de candidato (opcional) e registra o voto na Urna."
      ],
      "metadata": {
        "id": "wz-J1N04dJuU"
      }
    },
    {
      "cell_type": "code",
      "source": [
        "class Morador():\n",
        "    def __init__(self, nome, num_apartamento):\n",
        "        self.nome = nome\n",
        "        self.num_apartamento = num_apartamento\n",
        "\n",
        "    def votar(self, urna, num_apartamento):\n",
        "        num_candidato_votado = input(\"\\nDigite o número do candidato em que deseja votar (ou digite 0 para sair): \")\n",
        "        if num_candidato_votado == '0':\n",
        "            return  # Encerra a função se o usuário digitar 0\n",
        "\n",
        "        num_candidato_votado = int(num_candidato_votado)  # Convertendo para inteiro\n",
        "\n",
        "        for apartamento in urna.listaApartamentos.values():\n",
        "            if 'Candidato' in apartamento:\n",
        "                if apartamento['numCandidatura'] == num_candidato_votado:\n",
        "                    apartamento['votosRecebidos'] += 1\n",
        "\n",
        "        quemVotou = urna.listaApartamentos[self.num_apartamento]\n",
        "        if not quemVotou['voto']:\n",
        "            quemVotou['voto'] = True\n",
        "            print(\"Voto registrado com sucesso!\")\n",
        "            return\n",
        "\n",
        "\n",
        "        print(\"Número de candidatura não encontrado. Por favor, tente novamente.\")"
      ],
      "metadata": {
        "id": "9BFJhpoiyVFd"
      },
      "execution_count": 5,
      "outputs": []
    },
    {
      "cell_type": "markdown",
      "source": [
        "## Candidato\n",
        "É um tipo especial de Morador.\n",
        "1. **Atributos**: número (identificação na Urna), contagem de votos.\n",
        "2. **Método**:\n",
        "- **Construtor**: inicializa com nome e apartamento do Morador e atribui 0 à contagem de votos.\n"
      ],
      "metadata": {
        "id": "fTiiZusqe6qF"
      }
    },
    {
      "cell_type": "code",
      "source": [
        "class Candidato(Morador):\n",
        "    def __init__(self, nome, num_apartamento, numCandidatura):\n",
        "        super().__init__(nome, num_apartamento)\n",
        "        self.numCandidatura = numCandidatura\n",
        "        self.votosRecebidos = 0"
      ],
      "metadata": {
        "id": "0mWF9hP9ffk0"
      },
      "execution_count": 6,
      "outputs": []
    },
    {
      "cell_type": "markdown",
      "source": [
        "## Apartamento\n",
        "Representa as unidades do prédio.\n",
        "1. **Atributos**: lista de moradores, status de voto.\n",
        "2. **Métodos**:\n",
        "- **Adicionar Morador**: adiciona um objeto Morador à lista.\n",
        "- **Visualizar Moradores**: exibe a lista de moradores.\n",
        "- **Atualizar Status de Voto**: marca o apartamento como votado."
      ],
      "metadata": {
        "id": "lAG5DTCofz5k"
      }
    },
    {
      "cell_type": "code",
      "source": [
        "class Apartamento():\n",
        "    def __init__(self, numApartamento):\n",
        "        self.numApartamento = numApartamento"
      ],
      "metadata": {
        "id": "0KuHsVaDg3zF"
      },
      "execution_count": 8,
      "outputs": []
    },
    {
      "cell_type": "markdown",
      "source": [
        "## Urna\n",
        "Responsável pela lógica da eleição.\n",
        "1. **Atributos**: coleção de apartamentos, coleção de candidatos.\n",
        "2. **Métodos**:\n",
        "- **Cadastro de Apartamentos e Candidatos**: adiciona objetos existentes à coleção e gera número único para candidatos.\n",
        "- **Receber Voto**: atualiza a contagem de votos do candidato e marca o apartamento como votado.\n",
        "- **Sinalizar Encerramento**: indica se a votação terminou."
      ],
      "metadata": {
        "id": "60nVKpgEhVVr"
      }
    },
    {
      "cell_type": "code",
      "source": [
        "class Urna():\n",
        "    def __init__(self, listaApartamentos={}):\n",
        "        self.listaApartamentos = listaApartamentos\n",
        "\n",
        "    def gerarNumCandidato(self):\n",
        "        num_candidato = 1001  # Número inicial para os candidatos\n",
        "        for apartamento in self.listaApartamentos.values():\n",
        "            if 'Candidato' in apartamento:  # Verifica se há um candidato neste apartamento\n",
        "                apartamento['numCandidatura'] = num_candidato\n",
        "                num_candidato += 1\n",
        "\n",
        "    def listarApartamentos(self, listaApartamentos={}):\n",
        "        print(\"\\n#Confira abaixo, os apartamentos cadastrados para votar:\")\n",
        "        for num in self.listaApartamentos.keys():\n",
        "          print(f\">> Apartamento Nº {num}\")\n",
        "\n",
        "    def listarCandidatos(self, listaApartamentos={}):\n",
        "        print(\"\\n#Confira abaixo, os candidatos disponíveis:\")\n",
        "        for num_apartamento, detalhes in self.listaApartamentos.items():\n",
        "            if 'Candidato' in detalhes:\n",
        "                nome_candidato = detalhes['Candidato']\n",
        "                num_candidatura = detalhes['numCandidatura']\n",
        "                print(f\">> Candidato: {nome_candidato}, Número de Candidatura: {num_candidatura}\")"
      ],
      "metadata": {
        "id": "G_vC822qhwiz"
      },
      "execution_count": 7,
      "outputs": []
    },
    {
      "cell_type": "markdown",
      "source": [
        "# Programa Principal\n",
        "O programa principal possui 3 etapas:\n",
        "\n",
        "1. **Cadastro**: Lê informações sobre moradores e cria os objetos Morador/Candidato e Apartamento correspondentes.\n",
        "2. **Configuração**: Utiliza as informações obtidas para criar uma Urna.\n",
        "3. **Votação**: Permite que os moradores votem. Encerra quando a Urna informa que a votação acabou."
      ],
      "metadata": {
        "id": "vZT-cQ1qiO3I"
      }
    },
    {
      "cell_type": "code",
      "source": [
        "def main():\n",
        "    listaApartamentos = {}\n",
        "\n",
        "    while True:\n",
        "        tipo = input(\"Digite M para cadastrar um Morador e C para cadastrar um Candidato (ou digite qualquer outra tecla para sair): \")\n",
        "\n",
        "        if tipo.upper() == 'M':\n",
        "            nome = input('Nome do morador: ')\n",
        "            num = input('Qual o número do apartamento? ')\n",
        "            morador = Morador(nome, num)\n",
        "            listaApartamentos[num] = {\n",
        "                'Morador': morador.nome,\n",
        "                'voto': False\n",
        "            }\n",
        "            print(\"\\nApartamento cadastrado com sucesso!\")\n",
        "\n",
        "        elif tipo.upper() == 'C':\n",
        "            nome = input('Nome do Candidato: ')\n",
        "            num = input('Qual o número do apartamento? ')\n",
        "            candidato = Candidato(nome, num, 0)\n",
        "            listaApartamentos[num] = {\n",
        "                'Candidato': candidato.nome,\n",
        "                'numCandidatura': 0,\n",
        "                'votosRecebidos': 0,\n",
        "                'voto': False\n",
        "            }\n",
        "            print(\"\\nApartamento cadastrado com sucesso!\")\n",
        "\n",
        "        else:\n",
        "            print(\"Opção inválida. Encerrando o cadastro.\")\n",
        "            break\n",
        "\n",
        "    urna = Urna(listaApartamentos)\n",
        "    urna.gerarNumCandidato()\n",
        "\n",
        "    print(\"\\n====== Cadastro concluído. Vamos começar a eleição! =====\")\n",
        "\n",
        "    while True:\n",
        "      allVote = True\n",
        "\n",
        "      urna.listarApartamentos(listaApartamentos)\n",
        "      print(listaApartamentos)\n",
        "\n",
        "      votoApartamento = input(f'\\nInforme o número do apartamento que irá votar: ')\n",
        "      if votoApartamento not in listaApartamentos:\n",
        "          print(\"XXXXX Número de apartamento inválido. Por favor, tente novamente. XXXXX\")\n",
        "          continue\n",
        "\n",
        "      detalhes = listaApartamentos[votoApartamento]\n",
        "      if detalhes['voto']:\n",
        "          print(\"XXXX Este apartamento já votou. XXXX\")\n",
        "          continue\n",
        "\n",
        "      print(\"+++ Apartamento habilitado a votar! +++\")\n",
        "      urna.listarCandidatos(listaApartamentos)\n",
        "\n",
        "      morador = Morador(detalhes.get('Morador', detalhes.get('Candidato')), votoApartamento)\n",
        "      morador.votar(urna, votoApartamento)\n",
        "\n",
        "      for apartment, valueVote in listaApartamentos.items():\n",
        "          if not valueVote['voto']:  # Verifica se algum voto é False\n",
        "              allVote = False\n",
        "              break\n",
        "\n",
        "      if allVote:  # Se todos os votos forem True, encerra a votação\n",
        "          break\n",
        "\n",
        "\n",
        "    print(\"\\nApuração dos votos:\")\n",
        "    candidato_vencedor = None\n",
        "    votos_vencedor = 0\n",
        "    for num_apartamento, detalhes in listaApartamentos.items():\n",
        "        for chave, valor in detalhes.items():\n",
        "            if 'Candidato' in detalhes:\n",
        "                votos_recebidos = detalhes['votosRecebidos']\n",
        "                if votos_recebidos > votos_vencedor:\n",
        "                    candidato_vencedor = valor\n",
        "                    votos_vencedor = votos_recebidos\n",
        "\n",
        "    if candidato_vencedor:\n",
        "        print(f\"Candidato vencedor: {candidato_vencedor}, Votos Recebidos: {votos_vencedor}\")\n",
        "\n",
        "if __name__ == \"__main__\":\n",
        "    main()"
      ],
      "metadata": {
        "id": "YViG-eWRioF9"
      },
      "execution_count": null,
      "outputs": []
    }
  ]
}